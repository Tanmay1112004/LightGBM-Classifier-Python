{
  "nbformat": 4,
  "nbformat_minor": 0,
  "metadata": {
    "colab": {
      "provenance": []
    },
    "kernelspec": {
      "name": "python3",
      "display_name": "Python 3"
    },
    "language_info": {
      "name": "python"
    }
  },
  "cells": [
    {
      "cell_type": "markdown",
      "source": [
        "# LightGBM Classifier in Python"
      ],
      "metadata": {
        "id": "ZhJ54s9ixxpJ"
      }
    },
    {
      "cell_type": "markdown",
      "source": [
        "Hello friends,\n",
        "\n",
        "In this kernel, I will discuss one of the most successful ML algorithm LightGBM Classifier. LightGBM is a fast, distributed, high performance gradient boosting framework based on decision tree algorithms, used for ranking, classification and many other machine learning tasks. It has helped Kagglers win data science competitions.\n",
        "\n",
        "So, let's get started."
      ],
      "metadata": {
        "id": "OSnm2Kenx8Rx"
      }
    },
    {
      "cell_type": "markdown",
      "source": [
        "## Table of Contents ¶\n",
        "1. [Introduction to LightGBM](#introduction)\n",
        "2. [LightGBM intuition](#intuition)\n",
        "3. [XGBoost Vs LightGBM](#xgboost-vs-lightgbm)\n",
        "4. [LightGBM Parameters](#parameters)\n",
        "   - [4.1 Control Parameters](#control-parameters)\n",
        "   - [4.2 Core Parameters](#core-parameters)\n",
        "   - [4.3 Metric Parameter](#metric-parameter)\n",
        "   - [4.4 IO Parameter](#io-parameter)\n",
        "5. [LightGBM implementation in Python](#implementation)\n",
        "6. [LightGBM Parameter Tuning](#tuning)\n"
      ],
      "metadata": {
        "id": "4MC2o90-yJqm"
      }
    },
    {
      "cell_type": "markdown",
      "source": [
        "# 1. Introduction to LightGBM\n",
        "[🔙 Table of Contents](#table-of-contents)\n",
        "\n",
        "LightGBM is a gradient boosting framework that uses tree-based learning algorithms. It is designed to be distributed and efficient with the following advantages:\n",
        "\n",
        "- Faster training speed and higher efficiency  \n",
        "- Lower memory usage  \n",
        "- Better accuracy  \n",
        "- Support of parallel and GPU learning  \n",
        "- Capable of handling large-scale data  \n",
        "\n",
        "At present, decision tree-based machine learning algorithms dominate Kaggle competitions. The winning solutions in these competitions have adopted an algorithm called **XGBoost**.  \n",
        "\n",
        "A couple of years ago, Microsoft announced its gradient boosting framework **LightGBM**. Nowadays, it steals the spotlight in gradient boosting machines. Kagglers are using LightGBM more than XGBoost because **LightGBM is ~6 times faster**.  \n",
        "\n",
        "LightGBM is relatively new and has a long list of parameters given in the official [LightGBM Documentation](https://github.com/microsoft/LightGBM).  \n",
        "\n",
        "The size of datasets is increasing rapidly, making it very difficult for traditional data science algorithms to give accurate results. LightGBM (short for \"Light Gradient Boosting Machine\") is designed for **high speed and low memory usage**.  \n",
        "\n",
        "Another reason why LightGBM is so popular is because it focuses on **accuracy of results**. It also supports **GPU learning**, which is why data scientists widely use it for ML application development.  \n",
        "\n",
        "⚠️ **Note:** It is not advisable to use LightGBM on small datasets, since it is sensitive to overfitting.  \n",
        "\n",
        "👉 Explore:  \n",
        "- [LightGBM GitHub Repository](https://github.com/Microsoft/LightGBM)  \n",
        "- [LightGBM Documentation](https://github.com/microsoft/LightGBM)  \n"
      ],
      "metadata": {
        "id": "tROmAG6czIDh"
      }
    },
    {
      "cell_type": "markdown",
      "source": [
        "# 2. LightGBM Intuition\n",
        "[🔙 Table of Contents](#table-of-contents)\n",
        "\n",
        "LightGBM is a gradient boosting framework that uses tree-based learning algorithms.  \n",
        "\n",
        "According to the [LightGBM documentation](https://github.com/microsoft/LightGBM):  \n",
        "\n",
        "> **LightGBM grows trees vertically, while other tree-based learning algorithms grow trees horizontally.**  \n",
        "> - LightGBM grows trees **leaf-wise**, while most algorithms grow them **level-wise**.  \n",
        "> - It selects the **leaf with the maximum delta loss** to grow.  \n",
        "> - When growing the same leaf, the **leaf-wise algorithm reduces more loss** compared to the level-wise algorithm.  \n",
        "\n",
        "\n",
        "### 🌳 Tree Growth Styles:\n",
        "- **Level-wise growth**:  \n",
        "  - Splits nodes level by level (all leaves at the same depth).  \n",
        "  - More balanced but less efficient.  \n",
        "  - Used by algorithms like XGBoost.  \n",
        "\n",
        "- **Leaf-wise growth (LightGBM)**:  \n",
        "  - Splits the leaf that gives the **largest loss reduction**.  \n",
        "  - Can achieve **better accuracy**.  \n",
        "  - But, it may cause **overfitting** on small datasets.  \n",
        "\n",
        "📌 Thus, the key difference is:  \n",
        "**LightGBM focuses on reducing loss faster by growing leaf-wise, whereas other algorithms prefer balanced trees by growing level-wise.**\n"
      ],
      "metadata": {
        "id": "qrf63fL60iCo"
      }
    },
    {
      "cell_type": "markdown",
      "source": [
        "## 2.1 Leaf-wise Tree Growth  \n",
        "[🔙 Table of Contents](#table-of-contents)\n",
        "\n",
        "Leaf-wise tree growth can best be explained with this visual comparison:\n",
        "\n",
        "![Leaf-wise vs Level-wise Tree Growth](attachment)  <!-- Will display the image above -->\n",
        "\n",
        "---\n",
        "\n",
        "### What this diagram shows:\n",
        "- **Level-wise (horizontal) growth**: Splits all nodes at the same tree depth before moving deeper. Produces balanced, shallow trees.\n",
        "- **Leaf-wise (vertical) growth**, used by LightGBM: Splits only the leaf that yields the **largest reduction in loss**, producing deeper, narrower trees.\n",
        "\n",
        "This strategy allows LightGBM to often achieve **higher accuracy with fewer nodes**, but can risk **overfitting on small datasets**.:contentReference[oaicite:2]{index=2}\n",
        "\n",
        "---\n",
        "\n",
        "### Why it matters:\n",
        "- **Faster convergence**: By focusing on the most impactful splits, models learn more effectively.:contentReference[oaicite:3]{index=3}  \n",
        "- **Control over complexity**: Parameters like `max_depth` or `num_leaves` help prevent overly deep or complex trees.:contentReference[oaicite:4]{index=4}\n",
        "\n",
        "---\n",
        "\n",
        "**Summary Table**\n",
        "\n",
        "| Growth Strategy | Description | Pros | Cons |\n",
        "|-----------------|-------------|------|------|\n",
        "| **Level-wise**  | Grow each level fully before next | Balanced trees; less risk of overfitting | Slower loss reduction |\n",
        "| **Leaf-wise**   | Grow the leaf with maximum loss reduction | Faster learning; better accuracy | Risk of overfitting if unchecked |\n",
        "\n"
      ],
      "metadata": {
        "id": "yeCphd3X1E_k"
      }
    },
    {
      "cell_type": "markdown",
      "source": [],
      "metadata": {
        "id": "XmBj3b_GzH0p"
      }
    },
    {
      "cell_type": "markdown",
      "source": [
        "## 2.2 Level-wise Tree Growth\n",
        "[🔙 Table of Contents](#table-of-contents)\n",
        "\n",
        "Most decision tree learning algorithms grow trees **level-wise (depth-wise)**.\n",
        "\n",
        "---\n",
        "\n",
        "### 🌳 Level-wise Tree Growth\n",
        "Level-wise tree growth can best be explained with this visual:\n",
        "\n",
        "![Level-wise Tree Growth](https://lightgbm.readthedocs.io/en/latest/_images/level_wise.png)\n",
        "\n",
        "---\n",
        "\n",
        "### 🔑 Key Points:\n",
        "- **Level-wise growth** expands **all nodes at the same depth** before moving deeper.  \n",
        "- Produces **balanced trees**, where all leaves are at similar depths.  \n",
        "- Used by many algorithms, including **XGBoost** and traditional decision trees.  \n",
        "- More stable and less prone to **overfitting on small datasets** compared to leaf-wise growth.  \n",
        "\n",
        "---\n",
        "\n",
        "### ✅ Summary:\n",
        "- **Balanced splits** → Trees are uniform in depth.  \n",
        "- **Slower loss reduction** compared to leaf-wise growth.  \n",
        "- **Safer choice** for small or noisy datasets.  \n"
      ],
      "metadata": {
        "id": "ANzwhvEo1vXK"
      }
    },
    {
      "cell_type": "markdown",
      "source": [
        "## Important Points about Tree Growth\n",
        "[🔙 Table of Contents](#table-of-contents)\n",
        "\n",
        "- If we grow the **full tree**, both **best-first (leaf-wise)** and **depth-first (level-wise)** will result in the **same tree**.  \n",
        "  - The only difference is the **order in which the tree is expanded**.  \n",
        "\n",
        "- Since we rarely grow trees to their full depth, the **order matters a lot**.  \n",
        "\n",
        "- **Early stopping criteria** and **pruning methods** can lead to **very different trees**:  \n",
        "  - **Leaf-wise** chooses splits based on their contribution to the **global loss**, not just local branch loss.  \n",
        "  - This often (but not always) results in **lower-error trees faster** than level-wise.  \n",
        "\n",
        "- For a **small number of nodes**, **leaf-wise generally outperforms level-wise**.  \n",
        "\n",
        "- As more nodes are added, and without pruning/stopping:  \n",
        "  - Both strategies will eventually **converge to the same performance**,  \n",
        "  - Because they will ultimately build the **same tree structure**.  \n",
        "\n",
        "---\n",
        "\n",
        "### ⚖️ Summary:\n",
        "- **Leaf-wise** → Faster loss reduction, better for larger datasets, but risk of overfitting.  \n",
        "- **Level-wise** → More balanced growth, safer for smaller datasets.  \n",
        "- Both become **equivalent at full depth**, but practical constraints (stopping/pruning) make them behave differently in real-world training.\n"
      ],
      "metadata": {
        "id": "ho9h74YO1399"
      }
    },
    {
      "cell_type": "markdown",
      "source": [
        "# 3. XGBoost Vs LightGBM\n",
        "[🔙 Table of Contents](#table-of-contents)\n",
        "\n",
        "**XGBoost** is a very fast and accurate ML algorithm, but it has been challenged by **LightGBM**, which runs even faster with comparable model accuracy and more hyperparameters to tune.  \n",
        "\n",
        "---\n",
        "\n",
        "### ⚡ Key Differences:\n",
        "\n",
        "1. **Tree Growth Strategy**\n",
        "   - **XGBoost**: Splits tree nodes **level-by-level (depth-wise)** by default.  \n",
        "   - **LightGBM**: Splits tree nodes **leaf-by-leaf (best-first)**.  \n",
        "\n",
        "   🔑 This is the **main reason for LightGBM’s higher speed**.  \n",
        "\n",
        "---\n",
        "\n",
        "2. **Speed Comparison**\n",
        "   - **LightGBM**: ~**1.3X to 1.5X faster** than XGBoost (even after XGBoost improvements).  \n",
        "   - **XGBoost**: Later introduced `grow_policy = 'lossguide'` to allow **split-by-leaf**, catching up closer to LightGBM’s performance.  \n",
        "\n",
        "---\n",
        "\n",
        "3. **Model Interpretability**\n",
        "   - **XGBoost**: Supports **monotonic constraints**, which enforce feature-target monotonic relationships.  \n",
        "     - Improves **interpretability**.  \n",
        "     - May **reduce accuracy** and **increase training time**.  \n",
        "   - **LightGBM**: Lacks monotonic constraints.  \n",
        "\n",
        "---\n",
        "\n",
        "### ✅ Summary:\n",
        "- **LightGBM**: Faster, more efficient, especially for large datasets.  \n",
        "- **XGBoost**: Slightly slower but offers **more interpretability features** (like monotonic constraints).  \n",
        "\n",
        "👉 Both are widely used and often **perform comparably** — choice depends on **dataset size, interpretability needs, and speed requirements**.  \n"
      ],
      "metadata": {
        "id": "I2f6McbH2Cye"
      }
    },
    {
      "cell_type": "markdown",
      "source": [
        "# 4. LightGBM Parameters\n",
        "[🔙 Table of Contents](#table-of-contents)\n",
        "\n",
        "LightGBM provides **more than 100 parameters** that can be tuned for different tasks.  \n",
        "📖 Official docs: [LightGBM Parameters](https://github.com/microsoft/LightGBM/blob/master/docs/Parameters.rst)\n",
        "\n",
        "It is very important to know some **basic parameters** before diving into advanced tuning.  \n",
        "\n",
        "In this section, we will discuss the main categories of LightGBM parameters:\n",
        "\n",
        "- **Control Parameters** (to control boosting type, objective, number of iterations, etc.)  \n",
        "- **Core Parameters** (that define the tree structure and complexity)  \n",
        "- **Metric Parameters** (to evaluate model performance)  \n",
        "- **IO Parameters** (for input/output efficiency)  \n"
      ],
      "metadata": {
        "id": "Cv3sr3kv2Tc6"
      }
    },
    {
      "cell_type": "markdown",
      "source": [
        "## 4.1 Control Parameters\n",
        "[🔙 Table of Contents](#table-of-contents)\n",
        "\n",
        "These parameters control the **overall behavior** of LightGBM, including tree depth, sampling, and early stopping.  \n",
        "\n",
        "---\n",
        "\n",
        "### 🔑 Key Control Parameters\n",
        "\n",
        "- **`max_depth`**  \n",
        "  - Maximum depth of the tree.  \n",
        "  - Helps to control **overfitting**.  \n",
        "  - If the model is overfitting, **lower this value**.  \n",
        "\n",
        "---\n",
        "\n",
        "- **`min_data_in_leaf`**  \n",
        "  - Minimum number of records a leaf may have.  \n",
        "  - Default = **20** (a good starting point).  \n",
        "  - Used to **reduce overfitting** by preventing overly small leaves.  \n",
        "\n",
        "---\n",
        "\n",
        "- **`feature_fraction`**  \n",
        "  - Used when boosting = **random forest**.  \n",
        "  - Example: `0.8` → LightGBM will randomly select **80% of features** in each iteration.  \n",
        "  - Helps with **regularization** and improves generalization.  \n",
        "\n",
        "---\n",
        "\n",
        "- **`bagging_fraction`**  \n",
        "  - Fraction of training data used in each iteration.  \n",
        "  - Useful for **speeding up training** and reducing **overfitting**.  \n",
        "\n",
        "---\n",
        "\n",
        "- **`early_stopping_round`**  \n",
        "  - Stops training early if the validation metric does not improve within the given rounds.  \n",
        "  - Prevents **unnecessary iterations** and speeds up analysis.  \n",
        "\n",
        "---\n",
        "\n",
        "- **`lambda`**  \n",
        "  - Regularization parameter (L2 penalty).  \n",
        "  - Typical range: **0 to 1**.  \n",
        "  - Helps reduce **overfitting** by penalizing complex models.  \n",
        "\n",
        "---\n",
        "\n",
        "- **`min_gain_to_split`**  \n",
        "  - Minimum gain required to make a split.  \n",
        "  - Controls the number of **useful splits** in a tree.  \n",
        "\n",
        "---\n",
        "\n",
        "- **`max_cat_group`**  \n",
        "  - When the number of categories is large, LightGBM merges them into groups (`max_cat_group`).  \n",
        "  - Prevents **overfitting on categorical features**.  \n",
        "  - Default = **64**.  \n",
        "\n",
        "---\n",
        "\n",
        "✅ These parameters are critical for controlling **model complexity, speed, and overfitting** in LightGBM.  \n"
      ],
      "metadata": {
        "id": "6e2Nzd-62355"
      }
    },
    {
      "cell_type": "markdown",
      "source": [
        "## 4.2 Core Parameters\n",
        "[🔙 Table of Contents](#table-of-contents)\n",
        "\n",
        "These parameters define the **main behavior of LightGBM models**, including the task type, boosting strategy, and core hyperparameters.  \n",
        "\n",
        "---\n",
        "\n",
        "### ⚡ Task & Application\n",
        "- **`task`**  \n",
        "  - Specifies the task to perform.  \n",
        "  - Options:  \n",
        "    - `train` → Train the model  \n",
        "    - `predict` → Make predictions  \n",
        "\n",
        "- **`application`** (or `objective`)  \n",
        "  - Defines the **type of problem**.  \n",
        "  - Default = **regression**.  \n",
        "  - Options:  \n",
        "    - `regression` → Regression problems  \n",
        "    - `binary` → Binary classification  \n",
        "    - `multiclass` → Multi-class classification  \n",
        "\n",
        "---\n",
        "\n",
        "### ⚡ Boosting Type\n",
        "- **`boosting`** (default = `gbdt`)  \n",
        "  - Defines which boosting algorithm to use:  \n",
        "    - `gbdt` → Gradient Boosting Decision Tree (traditional)  \n",
        "    - `rf` → Random Forest  \n",
        "    - `dart` → Dropouts meet Multiple Additive Regression Trees  \n",
        "    - `goss` → Gradient-based One-Side Sampling  \n",
        "\n",
        "---\n",
        "\n",
        "### ⚡ Iterations & Learning\n",
        "- **`num_boost_round`**  \n",
        "  - Number of boosting iterations.  \n",
        "  - Typical values: **100+**.  \n",
        "\n",
        "- **`learning_rate`**  \n",
        "  - Controls the **impact of each tree** on the final prediction.  \n",
        "  - Lower values → more accurate but need more iterations.  \n",
        "  - Typical values: **0.1, 0.01, 0.003**.  \n",
        "\n",
        "---\n",
        "\n",
        "### ⚡ Tree Complexity\n",
        "- **`num_leaves`**  \n",
        "  - Maximum number of leaves in one tree.  \n",
        "  - Default = **31**.  \n",
        "  - Larger values → more complex trees, risk of overfitting.  \n",
        "\n",
        "---\n",
        "\n",
        "### ⚡ Device\n",
        "- **`device`**  \n",
        "  - Specifies the hardware to use.  \n",
        "  - Options:  \n",
        "    - `cpu` (default)  \n",
        "    - `gpu` (for faster training on large datasets)  \n",
        "\n",
        "---\n",
        "\n",
        "✅ These **core parameters** are the foundation of LightGBM. Correctly tuning them determines **training speed, model complexity, and accuracy**.  \n"
      ],
      "metadata": {
        "id": "v_bbg7qd3x6I"
      }
    },
    {
      "cell_type": "markdown",
      "source": [
        "# 4.3 Metric Parameter ¶\n",
        "[Back to Table of Contents](#table-of-contents)\n",
        "\n",
        "LightGBM uses the **`metric`** parameter to specify the loss function for model evaluation.  \n",
        "It is one of the most important parameters as it defines how the model’s performance is measured.  \n",
        "\n",
        "### Common Metrics:\n",
        "- **`mae`** : Mean Absolute Error (used for regression)  \n",
        "- **`mse`** : Mean Squared Error (used for regression)  \n",
        "- **`binary_logloss`** : Log loss for binary classification  \n",
        "- **`multi_logloss`** : Log loss for multi-class classification  \n"
      ],
      "metadata": {
        "id": "i8YAgbJU4DAk"
      }
    },
    {
      "cell_type": "markdown",
      "source": [
        "<a id=\"io-parameter\"></a>\n",
        "## 4.4 IO Parameter ¶\n",
        "[Back to Table of Contents](#table-of-contents)\n",
        "\n",
        "- **max_bin** : It denotes the maximum number of bins that feature values will be bucketed into.  \n",
        "- **categorical_feature** : It denotes the index of categorical features.  \n",
        "  Example: if `categorical_features=0,1,2`, then column 0, column 1, and column 2 are categorical variables.  \n",
        "- **ignore_column** : Similar to `categorical_feature`, but instead of considering specific columns as categorical, it completely ignores them.  \n",
        "- **save_binary** : If memory size is a concern, specify this parameter as `True`. This saves the dataset as a binary file, which speeds up data reading for the next time.  \n"
      ],
      "metadata": {
        "id": "s2xishBp4OvF"
      }
    },
    {
      "cell_type": "markdown",
      "source": [
        "<a id=\"5\"></a>\n",
        "# 5. LightGBM implementation in Python ¶  \n",
        "[Back to Table of Contents](#toc)"
      ],
      "metadata": {
        "id": "FzC8z0I54csB"
      }
    },
    {
      "cell_type": "markdown",
      "source": [
        "# Initial Set-Up"
      ],
      "metadata": {
        "id": "DqxIV9de4uUO"
      }
    },
    {
      "cell_type": "code",
      "source": [
        "import numpy as np # linear algebra\n",
        "import pandas as pd # data processing, CSV file I/O (e.g. pd.read_csv)\n",
        "import matplotlib.pyplot as plt # data visualization\n",
        "import seaborn as sns # statistical data visualization"
      ],
      "metadata": {
        "id": "BjNVizmXxNLk"
      },
      "execution_count": 1,
      "outputs": []
    },
    {
      "cell_type": "code",
      "source": [
        "# ignore warnings\n",
        "import warnings\n",
        "warnings.filterwarnings(\"ignore\")"
      ],
      "metadata": {
        "id": "jiOYrVwtxNPg"
      },
      "execution_count": 2,
      "outputs": []
    },
    {
      "cell_type": "markdown",
      "source": [
        "# Read dataset"
      ],
      "metadata": {
        "id": "D_DKNyAI5Ang"
      }
    },
    {
      "cell_type": "code",
      "source": [
        "# load and preview data\n",
        "df = pd.read_csv(r'/content/Breast_cancer_data.csv')\n",
        "df.head()"
      ],
      "metadata": {
        "colab": {
          "base_uri": "https://localhost:8080/",
          "height": 206
        },
        "id": "vFMfZ7bJxNTQ",
        "outputId": "eb7423b3-4712-4f42-d9d9-eff85b96757f"
      },
      "execution_count": 3,
      "outputs": [
        {
          "output_type": "execute_result",
          "data": {
            "text/plain": [
              "   mean_radius  mean_texture  mean_perimeter  mean_area  mean_smoothness  \\\n",
              "0        17.99         10.38          122.80     1001.0          0.11840   \n",
              "1        20.57         17.77          132.90     1326.0          0.08474   \n",
              "2        19.69         21.25          130.00     1203.0          0.10960   \n",
              "3        11.42         20.38           77.58      386.1          0.14250   \n",
              "4        20.29         14.34          135.10     1297.0          0.10030   \n",
              "\n",
              "   diagnosis  \n",
              "0          0  \n",
              "1          0  \n",
              "2          0  \n",
              "3          0  \n",
              "4          0  "
            ],
            "text/html": [
              "\n",
              "  <div id=\"df-5460cd93-d8f3-47d0-abbb-35230a8a376f\" class=\"colab-df-container\">\n",
              "    <div>\n",
              "<style scoped>\n",
              "    .dataframe tbody tr th:only-of-type {\n",
              "        vertical-align: middle;\n",
              "    }\n",
              "\n",
              "    .dataframe tbody tr th {\n",
              "        vertical-align: top;\n",
              "    }\n",
              "\n",
              "    .dataframe thead th {\n",
              "        text-align: right;\n",
              "    }\n",
              "</style>\n",
              "<table border=\"1\" class=\"dataframe\">\n",
              "  <thead>\n",
              "    <tr style=\"text-align: right;\">\n",
              "      <th></th>\n",
              "      <th>mean_radius</th>\n",
              "      <th>mean_texture</th>\n",
              "      <th>mean_perimeter</th>\n",
              "      <th>mean_area</th>\n",
              "      <th>mean_smoothness</th>\n",
              "      <th>diagnosis</th>\n",
              "    </tr>\n",
              "  </thead>\n",
              "  <tbody>\n",
              "    <tr>\n",
              "      <th>0</th>\n",
              "      <td>17.99</td>\n",
              "      <td>10.38</td>\n",
              "      <td>122.80</td>\n",
              "      <td>1001.0</td>\n",
              "      <td>0.11840</td>\n",
              "      <td>0</td>\n",
              "    </tr>\n",
              "    <tr>\n",
              "      <th>1</th>\n",
              "      <td>20.57</td>\n",
              "      <td>17.77</td>\n",
              "      <td>132.90</td>\n",
              "      <td>1326.0</td>\n",
              "      <td>0.08474</td>\n",
              "      <td>0</td>\n",
              "    </tr>\n",
              "    <tr>\n",
              "      <th>2</th>\n",
              "      <td>19.69</td>\n",
              "      <td>21.25</td>\n",
              "      <td>130.00</td>\n",
              "      <td>1203.0</td>\n",
              "      <td>0.10960</td>\n",
              "      <td>0</td>\n",
              "    </tr>\n",
              "    <tr>\n",
              "      <th>3</th>\n",
              "      <td>11.42</td>\n",
              "      <td>20.38</td>\n",
              "      <td>77.58</td>\n",
              "      <td>386.1</td>\n",
              "      <td>0.14250</td>\n",
              "      <td>0</td>\n",
              "    </tr>\n",
              "    <tr>\n",
              "      <th>4</th>\n",
              "      <td>20.29</td>\n",
              "      <td>14.34</td>\n",
              "      <td>135.10</td>\n",
              "      <td>1297.0</td>\n",
              "      <td>0.10030</td>\n",
              "      <td>0</td>\n",
              "    </tr>\n",
              "  </tbody>\n",
              "</table>\n",
              "</div>\n",
              "    <div class=\"colab-df-buttons\">\n",
              "\n",
              "  <div class=\"colab-df-container\">\n",
              "    <button class=\"colab-df-convert\" onclick=\"convertToInteractive('df-5460cd93-d8f3-47d0-abbb-35230a8a376f')\"\n",
              "            title=\"Convert this dataframe to an interactive table.\"\n",
              "            style=\"display:none;\">\n",
              "\n",
              "  <svg xmlns=\"http://www.w3.org/2000/svg\" height=\"24px\" viewBox=\"0 -960 960 960\">\n",
              "    <path d=\"M120-120v-720h720v720H120Zm60-500h600v-160H180v160Zm220 220h160v-160H400v160Zm0 220h160v-160H400v160ZM180-400h160v-160H180v160Zm440 0h160v-160H620v160ZM180-180h160v-160H180v160Zm440 0h160v-160H620v160Z\"/>\n",
              "  </svg>\n",
              "    </button>\n",
              "\n",
              "  <style>\n",
              "    .colab-df-container {\n",
              "      display:flex;\n",
              "      gap: 12px;\n",
              "    }\n",
              "\n",
              "    .colab-df-convert {\n",
              "      background-color: #E8F0FE;\n",
              "      border: none;\n",
              "      border-radius: 50%;\n",
              "      cursor: pointer;\n",
              "      display: none;\n",
              "      fill: #1967D2;\n",
              "      height: 32px;\n",
              "      padding: 0 0 0 0;\n",
              "      width: 32px;\n",
              "    }\n",
              "\n",
              "    .colab-df-convert:hover {\n",
              "      background-color: #E2EBFA;\n",
              "      box-shadow: 0px 1px 2px rgba(60, 64, 67, 0.3), 0px 1px 3px 1px rgba(60, 64, 67, 0.15);\n",
              "      fill: #174EA6;\n",
              "    }\n",
              "\n",
              "    .colab-df-buttons div {\n",
              "      margin-bottom: 4px;\n",
              "    }\n",
              "\n",
              "    [theme=dark] .colab-df-convert {\n",
              "      background-color: #3B4455;\n",
              "      fill: #D2E3FC;\n",
              "    }\n",
              "\n",
              "    [theme=dark] .colab-df-convert:hover {\n",
              "      background-color: #434B5C;\n",
              "      box-shadow: 0px 1px 3px 1px rgba(0, 0, 0, 0.15);\n",
              "      filter: drop-shadow(0px 1px 2px rgba(0, 0, 0, 0.3));\n",
              "      fill: #FFFFFF;\n",
              "    }\n",
              "  </style>\n",
              "\n",
              "    <script>\n",
              "      const buttonEl =\n",
              "        document.querySelector('#df-5460cd93-d8f3-47d0-abbb-35230a8a376f button.colab-df-convert');\n",
              "      buttonEl.style.display =\n",
              "        google.colab.kernel.accessAllowed ? 'block' : 'none';\n",
              "\n",
              "      async function convertToInteractive(key) {\n",
              "        const element = document.querySelector('#df-5460cd93-d8f3-47d0-abbb-35230a8a376f');\n",
              "        const dataTable =\n",
              "          await google.colab.kernel.invokeFunction('convertToInteractive',\n",
              "                                                    [key], {});\n",
              "        if (!dataTable) return;\n",
              "\n",
              "        const docLinkHtml = 'Like what you see? Visit the ' +\n",
              "          '<a target=\"_blank\" href=https://colab.research.google.com/notebooks/data_table.ipynb>data table notebook</a>'\n",
              "          + ' to learn more about interactive tables.';\n",
              "        element.innerHTML = '';\n",
              "        dataTable['output_type'] = 'display_data';\n",
              "        await google.colab.output.renderOutput(dataTable, element);\n",
              "        const docLink = document.createElement('div');\n",
              "        docLink.innerHTML = docLinkHtml;\n",
              "        element.appendChild(docLink);\n",
              "      }\n",
              "    </script>\n",
              "  </div>\n",
              "\n",
              "\n",
              "    <div id=\"df-d52c74df-0b46-4489-bfc9-d26f35929439\">\n",
              "      <button class=\"colab-df-quickchart\" onclick=\"quickchart('df-d52c74df-0b46-4489-bfc9-d26f35929439')\"\n",
              "                title=\"Suggest charts\"\n",
              "                style=\"display:none;\">\n",
              "\n",
              "<svg xmlns=\"http://www.w3.org/2000/svg\" height=\"24px\"viewBox=\"0 0 24 24\"\n",
              "     width=\"24px\">\n",
              "    <g>\n",
              "        <path d=\"M19 3H5c-1.1 0-2 .9-2 2v14c0 1.1.9 2 2 2h14c1.1 0 2-.9 2-2V5c0-1.1-.9-2-2-2zM9 17H7v-7h2v7zm4 0h-2V7h2v10zm4 0h-2v-4h2v4z\"/>\n",
              "    </g>\n",
              "</svg>\n",
              "      </button>\n",
              "\n",
              "<style>\n",
              "  .colab-df-quickchart {\n",
              "      --bg-color: #E8F0FE;\n",
              "      --fill-color: #1967D2;\n",
              "      --hover-bg-color: #E2EBFA;\n",
              "      --hover-fill-color: #174EA6;\n",
              "      --disabled-fill-color: #AAA;\n",
              "      --disabled-bg-color: #DDD;\n",
              "  }\n",
              "\n",
              "  [theme=dark] .colab-df-quickchart {\n",
              "      --bg-color: #3B4455;\n",
              "      --fill-color: #D2E3FC;\n",
              "      --hover-bg-color: #434B5C;\n",
              "      --hover-fill-color: #FFFFFF;\n",
              "      --disabled-bg-color: #3B4455;\n",
              "      --disabled-fill-color: #666;\n",
              "  }\n",
              "\n",
              "  .colab-df-quickchart {\n",
              "    background-color: var(--bg-color);\n",
              "    border: none;\n",
              "    border-radius: 50%;\n",
              "    cursor: pointer;\n",
              "    display: none;\n",
              "    fill: var(--fill-color);\n",
              "    height: 32px;\n",
              "    padding: 0;\n",
              "    width: 32px;\n",
              "  }\n",
              "\n",
              "  .colab-df-quickchart:hover {\n",
              "    background-color: var(--hover-bg-color);\n",
              "    box-shadow: 0 1px 2px rgba(60, 64, 67, 0.3), 0 1px 3px 1px rgba(60, 64, 67, 0.15);\n",
              "    fill: var(--button-hover-fill-color);\n",
              "  }\n",
              "\n",
              "  .colab-df-quickchart-complete:disabled,\n",
              "  .colab-df-quickchart-complete:disabled:hover {\n",
              "    background-color: var(--disabled-bg-color);\n",
              "    fill: var(--disabled-fill-color);\n",
              "    box-shadow: none;\n",
              "  }\n",
              "\n",
              "  .colab-df-spinner {\n",
              "    border: 2px solid var(--fill-color);\n",
              "    border-color: transparent;\n",
              "    border-bottom-color: var(--fill-color);\n",
              "    animation:\n",
              "      spin 1s steps(1) infinite;\n",
              "  }\n",
              "\n",
              "  @keyframes spin {\n",
              "    0% {\n",
              "      border-color: transparent;\n",
              "      border-bottom-color: var(--fill-color);\n",
              "      border-left-color: var(--fill-color);\n",
              "    }\n",
              "    20% {\n",
              "      border-color: transparent;\n",
              "      border-left-color: var(--fill-color);\n",
              "      border-top-color: var(--fill-color);\n",
              "    }\n",
              "    30% {\n",
              "      border-color: transparent;\n",
              "      border-left-color: var(--fill-color);\n",
              "      border-top-color: var(--fill-color);\n",
              "      border-right-color: var(--fill-color);\n",
              "    }\n",
              "    40% {\n",
              "      border-color: transparent;\n",
              "      border-right-color: var(--fill-color);\n",
              "      border-top-color: var(--fill-color);\n",
              "    }\n",
              "    60% {\n",
              "      border-color: transparent;\n",
              "      border-right-color: var(--fill-color);\n",
              "    }\n",
              "    80% {\n",
              "      border-color: transparent;\n",
              "      border-right-color: var(--fill-color);\n",
              "      border-bottom-color: var(--fill-color);\n",
              "    }\n",
              "    90% {\n",
              "      border-color: transparent;\n",
              "      border-bottom-color: var(--fill-color);\n",
              "    }\n",
              "  }\n",
              "</style>\n",
              "\n",
              "      <script>\n",
              "        async function quickchart(key) {\n",
              "          const quickchartButtonEl =\n",
              "            document.querySelector('#' + key + ' button');\n",
              "          quickchartButtonEl.disabled = true;  // To prevent multiple clicks.\n",
              "          quickchartButtonEl.classList.add('colab-df-spinner');\n",
              "          try {\n",
              "            const charts = await google.colab.kernel.invokeFunction(\n",
              "                'suggestCharts', [key], {});\n",
              "          } catch (error) {\n",
              "            console.error('Error during call to suggestCharts:', error);\n",
              "          }\n",
              "          quickchartButtonEl.classList.remove('colab-df-spinner');\n",
              "          quickchartButtonEl.classList.add('colab-df-quickchart-complete');\n",
              "        }\n",
              "        (() => {\n",
              "          let quickchartButtonEl =\n",
              "            document.querySelector('#df-d52c74df-0b46-4489-bfc9-d26f35929439 button');\n",
              "          quickchartButtonEl.style.display =\n",
              "            google.colab.kernel.accessAllowed ? 'block' : 'none';\n",
              "        })();\n",
              "      </script>\n",
              "    </div>\n",
              "\n",
              "    </div>\n",
              "  </div>\n"
            ],
            "application/vnd.google.colaboratory.intrinsic+json": {
              "type": "dataframe",
              "variable_name": "df",
              "summary": "{\n  \"name\": \"df\",\n  \"rows\": 569,\n  \"fields\": [\n    {\n      \"column\": \"mean_radius\",\n      \"properties\": {\n        \"dtype\": \"number\",\n        \"std\": 3.524048826212078,\n        \"min\": 6.981,\n        \"max\": 28.11,\n        \"num_unique_values\": 456,\n        \"samples\": [\n          11.87,\n          13.44,\n          12.96\n        ],\n        \"semantic_type\": \"\",\n        \"description\": \"\"\n      }\n    },\n    {\n      \"column\": \"mean_texture\",\n      \"properties\": {\n        \"dtype\": \"number\",\n        \"std\": 4.301035768166949,\n        \"min\": 9.71,\n        \"max\": 39.28,\n        \"num_unique_values\": 479,\n        \"samples\": [\n          17.84,\n          17.07,\n          18.57\n        ],\n        \"semantic_type\": \"\",\n        \"description\": \"\"\n      }\n    },\n    {\n      \"column\": \"mean_perimeter\",\n      \"properties\": {\n        \"dtype\": \"number\",\n        \"std\": 24.2989810387549,\n        \"min\": 43.79,\n        \"max\": 188.5,\n        \"num_unique_values\": 522,\n        \"samples\": [\n          92.25,\n          76.38,\n          119.6\n        ],\n        \"semantic_type\": \"\",\n        \"description\": \"\"\n      }\n    },\n    {\n      \"column\": \"mean_area\",\n      \"properties\": {\n        \"dtype\": \"number\",\n        \"std\": 351.9141291816527,\n        \"min\": 143.5,\n        \"max\": 2501.0,\n        \"num_unique_values\": 539,\n        \"samples\": [\n          556.7,\n          584.1,\n          458.4\n        ],\n        \"semantic_type\": \"\",\n        \"description\": \"\"\n      }\n    },\n    {\n      \"column\": \"mean_smoothness\",\n      \"properties\": {\n        \"dtype\": \"number\",\n        \"std\": 0.014064128137673616,\n        \"min\": 0.05263,\n        \"max\": 0.1634,\n        \"num_unique_values\": 474,\n        \"samples\": [\n          0.09427,\n          0.09003,\n          0.1186\n        ],\n        \"semantic_type\": \"\",\n        \"description\": \"\"\n      }\n    },\n    {\n      \"column\": \"diagnosis\",\n      \"properties\": {\n        \"dtype\": \"number\",\n        \"std\": 0,\n        \"min\": 0,\n        \"max\": 1,\n        \"num_unique_values\": 2,\n        \"samples\": [\n          1,\n          0\n        ],\n        \"semantic_type\": \"\",\n        \"description\": \"\"\n      }\n    }\n  ]\n}"
            }
          },
          "metadata": {},
          "execution_count": 3
        }
      ]
    },
    {
      "cell_type": "markdown",
      "source": [
        "# View summary of dataset"
      ],
      "metadata": {
        "id": "vANzEYkO8dF3"
      }
    },
    {
      "cell_type": "code",
      "source": [
        "# view summary of dataset\n",
        "df.info()"
      ],
      "metadata": {
        "colab": {
          "base_uri": "https://localhost:8080/"
        },
        "id": "KaEBCrWAxNW2",
        "outputId": "6f0fb6d8-fa01-4987-d459-dfa898283d3f"
      },
      "execution_count": 4,
      "outputs": [
        {
          "output_type": "stream",
          "name": "stdout",
          "text": [
            "<class 'pandas.core.frame.DataFrame'>\n",
            "RangeIndex: 569 entries, 0 to 568\n",
            "Data columns (total 6 columns):\n",
            " #   Column           Non-Null Count  Dtype  \n",
            "---  ------           --------------  -----  \n",
            " 0   mean_radius      569 non-null    float64\n",
            " 1   mean_texture     569 non-null    float64\n",
            " 2   mean_perimeter   569 non-null    float64\n",
            " 3   mean_area        569 non-null    float64\n",
            " 4   mean_smoothness  569 non-null    float64\n",
            " 5   diagnosis        569 non-null    int64  \n",
            "dtypes: float64(5), int64(1)\n",
            "memory usage: 26.8 KB\n"
          ]
        }
      ]
    },
    {
      "cell_type": "markdown",
      "source": [
        "We can see that there are 6 columns in the dataset and there are no missing values."
      ],
      "metadata": {
        "id": "BbVwjvLh8nJW"
      }
    },
    {
      "cell_type": "markdown",
      "source": [
        "Check the distribution of target variable¶\n",
        "- target variable is diagnosis\n",
        "- check the distribution of the target variable."
      ],
      "metadata": {
        "id": "N3heTlqI8uPj"
      }
    },
    {
      "cell_type": "code",
      "source": [
        "# check the distribution of the target variable\n",
        "df['diagnosis'].value_counts()"
      ],
      "metadata": {
        "colab": {
          "base_uri": "https://localhost:8080/",
          "height": 178
        },
        "id": "6tedOXjBxNa_",
        "outputId": "6a493ef0-73d1-43c1-c65b-e58d3c81c93c"
      },
      "execution_count": 6,
      "outputs": [
        {
          "output_type": "execute_result",
          "data": {
            "text/plain": [
              "diagnosis\n",
              "1    357\n",
              "0    212\n",
              "Name: count, dtype: int64"
            ],
            "text/html": [
              "<div>\n",
              "<style scoped>\n",
              "    .dataframe tbody tr th:only-of-type {\n",
              "        vertical-align: middle;\n",
              "    }\n",
              "\n",
              "    .dataframe tbody tr th {\n",
              "        vertical-align: top;\n",
              "    }\n",
              "\n",
              "    .dataframe thead th {\n",
              "        text-align: right;\n",
              "    }\n",
              "</style>\n",
              "<table border=\"1\" class=\"dataframe\">\n",
              "  <thead>\n",
              "    <tr style=\"text-align: right;\">\n",
              "      <th></th>\n",
              "      <th>count</th>\n",
              "    </tr>\n",
              "    <tr>\n",
              "      <th>diagnosis</th>\n",
              "      <th></th>\n",
              "    </tr>\n",
              "  </thead>\n",
              "  <tbody>\n",
              "    <tr>\n",
              "      <th>1</th>\n",
              "      <td>357</td>\n",
              "    </tr>\n",
              "    <tr>\n",
              "      <th>0</th>\n",
              "      <td>212</td>\n",
              "    </tr>\n",
              "  </tbody>\n",
              "</table>\n",
              "</div><br><label><b>dtype:</b> int64</label>"
            ]
          },
          "metadata": {},
          "execution_count": 6
        }
      ]
    },
    {
      "cell_type": "markdown",
      "source": [
        "- The target variable is diagnosis. It contains 2 values - 0 and 1.\n",
        "\n",
        "- 0 is for Negative prediction and 1 for Positive prediction.\n",
        "\n",
        "- We can see that the problem is binary classification task."
      ],
      "metadata": {
        "id": "m0lrQ6vq8413"
      }
    },
    {
      "cell_type": "markdown",
      "source": [
        "# Declare feature vector and target variable"
      ],
      "metadata": {
        "id": "WAjpO5H_8_qn"
      }
    },
    {
      "cell_type": "code",
      "source": [
        "X = df[['mean_radius','mean_texture','mean_perimeter','mean_area','mean_smoothness']]\n",
        "y = df['diagnosis']"
      ],
      "metadata": {
        "id": "-srRwqLIxNd0"
      },
      "execution_count": 7,
      "outputs": []
    },
    {
      "cell_type": "markdown",
      "source": [
        "# Split dataset into training and test set"
      ],
      "metadata": {
        "id": "KDgYQT6d9IW9"
      }
    },
    {
      "cell_type": "markdown",
      "source": [],
      "metadata": {
        "id": "CpWfySIq9H18"
      }
    },
    {
      "cell_type": "code",
      "source": [
        "# split the dataset into the training set and test set\n",
        "from sklearn.model_selection import train_test_split\n",
        "X_train, X_test, y_train, y_test = train_test_split(X, y, test_size = 0.3, random_state = 0)"
      ],
      "metadata": {
        "id": "1Z03RlE7xNhS"
      },
      "execution_count": 8,
      "outputs": []
    },
    {
      "cell_type": "markdown",
      "source": [
        "# LightGBM Model Development and Training¶\n",
        "\n",
        "- We need to convert our training data into LightGBM dataset format(this is mandatory for LightGBM training).\n",
        "\n",
        "- After creating the necessary dataset, we created a python dictionary with parameters and their values.\n",
        "\n",
        "- Accuracy of the model depends on the values we provide to the parameters.\n",
        "\n",
        "- In the end block of code, we simply trained model with 100 iterations."
      ],
      "metadata": {
        "id": "pS5ZFj-H9TOz"
      }
    },
    {
      "cell_type": "code",
      "source": [
        "import lightgbm as lgb\n",
        "\n",
        "clf = lgb.LGBMClassifier()\n",
        "clf.fit(X_train, y_train)\n",
        "\n",
        "# Print all parameters in detail\n",
        "print(clf.get_params())\n"
      ],
      "metadata": {
        "id": "lXtlDsBH9NT4"
      },
      "execution_count": null,
      "outputs": []
    },
    {
      "cell_type": "markdown",
      "source": [
        "LGBMClassifier(boosting_type='gbdt', class_weight=None, colsample_bytree=1.0,\n",
        "               importance_type='split', learning_rate=0.1, max_depth=-1,\n",
        "               min_child_samples=20, min_child_weight=0.001, min_split_gain=0.0,\n",
        "               n_estimators=100, n_jobs=-1, num_leaves=31, objective=None,\n",
        "               random_state=None, reg_alpha=0.0, reg_lambda=0.0, silent=True,\n",
        "               subsample=1.0, subsample_for_bin=200000, subsample_freq=0)"
      ],
      "metadata": {
        "id": "bIN1KNOe-X5Q"
      }
    },
    {
      "cell_type": "markdown",
      "source": [
        "# Model Prediction"
      ],
      "metadata": {
        "id": "T7rcmy39-dcG"
      }
    },
    {
      "cell_type": "code",
      "source": [
        "# predict the results\n",
        "y_pred=clf.predict(X_test)"
      ],
      "metadata": {
        "id": "aldGX7LC9NW3"
      },
      "execution_count": 13,
      "outputs": []
    },
    {
      "cell_type": "markdown",
      "source": [
        "# View Accuracy"
      ],
      "metadata": {
        "id": "Mi7o2zan-kS5"
      }
    },
    {
      "cell_type": "code",
      "source": [
        "# view accuracy\n",
        "from sklearn.metrics import accuracy_score\n",
        "accuracy=accuracy_score(y_pred, y_test)\n",
        "print('LightGBM Model accuracy score: {0:0.4f}'.format(accuracy_score(y_test, y_pred)))"
      ],
      "metadata": {
        "colab": {
          "base_uri": "https://localhost:8080/"
        },
        "id": "pnFIwvsW9NaI",
        "outputId": "38fa462d-854e-41a0-83d0-687d839ff8e2"
      },
      "execution_count": 14,
      "outputs": [
        {
          "output_type": "stream",
          "name": "stdout",
          "text": [
            "LightGBM Model accuracy score: 0.9298\n"
          ]
        }
      ]
    },
    {
      "cell_type": "markdown",
      "source": [
        "- Here, y_test are the true class labels and y_pred are the predicted class labels in the test-set."
      ],
      "metadata": {
        "id": "oitZ9_cr-sj8"
      }
    },
    {
      "cell_type": "markdown",
      "source": [
        "# Compare train and test set accuracy¶\n",
        "- Now, I will compare the train-set and test-set accuracy to check for overfitting."
      ],
      "metadata": {
        "id": "f1GuRzxF-vlL"
      }
    },
    {
      "cell_type": "code",
      "source": [
        "y_pred_train = clf.predict(X_train)"
      ],
      "metadata": {
        "id": "J9FKi02k9Ndg"
      },
      "execution_count": 15,
      "outputs": []
    },
    {
      "cell_type": "code",
      "source": [
        "print('Training-set accuracy score: {0:0.4f}'. format(accuracy_score(y_train, y_pred_train)))"
      ],
      "metadata": {
        "colab": {
          "base_uri": "https://localhost:8080/"
        },
        "id": "sbZY6IwB9Njt",
        "outputId": "9341db36-0878-46bd-d3f8-cfa3f80cfb4c"
      },
      "execution_count": 16,
      "outputs": [
        {
          "output_type": "stream",
          "name": "stdout",
          "text": [
            "Training-set accuracy score: 1.0000\n"
          ]
        }
      ]
    },
    {
      "cell_type": "markdown",
      "source": [
        "# Check for Overfitting"
      ],
      "metadata": {
        "id": "MOiE-Zfw-8GB"
      }
    },
    {
      "cell_type": "code",
      "source": [
        "# print the scores on training and test set\n",
        "\n",
        "print('Training set score: {:.4f}'.format(clf.score(X_train, y_train)))\n",
        "\n",
        "print('Test set score: {:.4f}'.format(clf.score(X_test, y_test)))"
      ],
      "metadata": {
        "colab": {
          "base_uri": "https://localhost:8080/"
        },
        "id": "S2x1SRAL9Nni",
        "outputId": "97da4103-985a-4251-ced8-996ab1ba91be"
      },
      "execution_count": 17,
      "outputs": [
        {
          "output_type": "stream",
          "name": "stdout",
          "text": [
            "Training set score: 1.0000\n",
            "Test set score: 0.9298\n"
          ]
        }
      ]
    },
    {
      "cell_type": "markdown",
      "source": [
        "- The training and test set accuracy are quite comparable. So, we cannot say there is overfitting."
      ],
      "metadata": {
        "id": "p220HdTe_CE1"
      }
    },
    {
      "cell_type": "markdown",
      "source": [
        "# Confusion-matrix"
      ],
      "metadata": {
        "id": "RPicaCjz_GcN"
      }
    },
    {
      "cell_type": "code",
      "source": [
        "# view confusion-matrix\n",
        "# Print the Confusion Matrix and slice it into four pieces\n",
        "\n",
        "from sklearn.metrics import confusion_matrix\n",
        "cm = confusion_matrix(y_test, y_pred)\n",
        "print('Confusion matrix\\n\\n', cm)\n",
        "print('\\nTrue Positives(TP) = ', cm[0,0])\n",
        "print('\\nTrue Negatives(TN) = ', cm[1,1])\n",
        "print('\\nFalse Positives(FP) = ', cm[0,1])\n",
        "print('\\nFalse Negatives(FN) = ', cm[1,0])"
      ],
      "metadata": {
        "colab": {
          "base_uri": "https://localhost:8080/"
        },
        "id": "Xsbd4zpk9NqL",
        "outputId": "e1b356a6-4463-4447-b037-9c991a448a15"
      },
      "execution_count": 18,
      "outputs": [
        {
          "output_type": "stream",
          "name": "stdout",
          "text": [
            "Confusion matrix\n",
            "\n",
            " [[ 55   8]\n",
            " [  4 104]]\n",
            "\n",
            "True Positives(TP) =  55\n",
            "\n",
            "True Negatives(TN) =  104\n",
            "\n",
            "False Positives(FP) =  8\n",
            "\n",
            "False Negatives(FN) =  4\n"
          ]
        }
      ]
    },
    {
      "cell_type": "code",
      "source": [
        "# visualize confusion matrix with seaborn heatmap\n",
        "\n",
        "cm_matrix = pd.DataFrame(data=cm, columns=['Actual Positive:1', 'Actual Negative:0'],\n",
        "                                 index=['Predict Positive:1', 'Predict Negative:0'])\n",
        "\n",
        "sns.heatmap(cm_matrix, annot=True, fmt='d', cmap='YlGnBu')"
      ],
      "metadata": {
        "colab": {
          "base_uri": "https://localhost:8080/",
          "height": 448
        },
        "id": "JHZnWD-bxNk7",
        "outputId": "19086b4b-50c8-4780-b0e2-0889a3e45bca"
      },
      "execution_count": 19,
      "outputs": [
        {
          "output_type": "execute_result",
          "data": {
            "text/plain": [
              "<Axes: >"
            ]
          },
          "metadata": {},
          "execution_count": 19
        },
        {
          "output_type": "display_data",
          "data": {
            "text/plain": [
              "<Figure size 640x480 with 2 Axes>"
            ],
            "image/png": "[encoded data removed]"
          },
          "metadata": {}
        }
      ]
    },
    {
      "cell_type": "markdown",
      "source": [
        "# Classification Metrices"
      ],
      "metadata": {
        "id": "GBIWW1AZ_T8e"
      }
    },
    {
      "cell_type": "code",
      "source": [
        "from sklearn.metrics import classification_report\n",
        "print(classification_report(y_test, y_pred))"
      ],
      "metadata": {
        "colab": {
          "base_uri": "https://localhost:8080/"
        },
        "id": "It5kAdwP_SuC",
        "outputId": "251b5265-8fd8-4822-f8ce-f47c39c9123c"
      },
      "execution_count": 20,
      "outputs": [
        {
          "output_type": "stream",
          "name": "stdout",
          "text": [
            "              precision    recall  f1-score   support\n",
            "\n",
            "           0       0.93      0.87      0.90        63\n",
            "           1       0.93      0.96      0.95       108\n",
            "\n",
            "    accuracy                           0.93       171\n",
            "   macro avg       0.93      0.92      0.92       171\n",
            "weighted avg       0.93      0.93      0.93       171\n",
            "\n"
          ]
        }
      ]
    },
    {
      "cell_type": "markdown",
      "source": [
        "<a id=\"6\"></a>\n",
        "# 6. LightGBM Parameter Tuning ¶\n",
        "[Back to Table of Contents](#toc)\n",
        "\n",
        "In this section, I will discuss some tips to improve LightGBM model efficiency.  \n",
        "The following set of practices can be used to improve your model performance and prevent overfitting/underfitting:\n",
        "\n",
        "---\n",
        "\n",
        "### 1. `num_leaves`\n",
        "- This is the main parameter to control the complexity of the tree model.  \n",
        "- Ideally, the value of `num_leaves` should be less than or equal to `2^(max_depth)`.  \n",
        "- A value greater than this may lead to **overfitting**.\n",
        "\n",
        "---\n",
        "\n",
        "### 2. `min_data_in_leaf`\n",
        "- Minimum number of samples a leaf must contain.  \n",
        "- Setting it to a **large value** avoids overly deep trees and prevents overfitting.  \n",
        "- However, if it's too large, the model may **underfit**.  \n",
        "- In practice, setting it to **hundreds or thousands** works well for large datasets.\n",
        "\n",
        "---\n",
        "\n",
        "### 3. `max_depth`\n",
        "- This explicitly limits the depth of the tree.  \n",
        "- Helps in controlling **model complexity** and **training time**.  \n",
        "- Prevents overfitting by restricting the tree from becoming too deep.  \n",
        "\n",
        "---\n",
        "\n",
        "✅ These parameters are the **starting point** for LightGBM tuning.  \n",
        "Later, you can also tune learning rate, boosting rounds, feature_fraction, and bagging_fraction.  \n"
      ],
      "metadata": {
        "id": "T7tJww2x_g-B"
      }
    },
    {
      "cell_type": "markdown",
      "source": [],
      "metadata": {
        "id": "i-G8d0pd_p3Y"
      }
    },
    {
      "cell_type": "markdown",
      "source": [
        "### For Faster Speed ¶\n",
        "\n",
        "- Use **bagging** by setting `bagging_fraction` and `bagging_freq`.  \n",
        "- Use **feature sub-sampling** by setting `feature_fraction`.  \n",
        "- Use **small `max_bin`**.  \n",
        "- Use **save_binary** to speed up data loading in future learning.  \n"
      ],
      "metadata": {
        "id": "TBz8ds_N_pdG"
      }
    },
    {
      "cell_type": "markdown",
      "source": [
        "### For Better Accuracy ¶\n",
        "- Use **large `max_bin`** (may be slower).  \n",
        "- Use **small `learning_rate`** with **large `num_iterations`**.  \n",
        "- Use **large `num_leaves`** (may cause over-fitting).  \n",
        "- Use **bigger training data**.  \n",
        "- Try **DART** (Dropouts meet Multiple Additive Regression Trees).  \n",
        "- Try to use **categorical features directly**.  \n"
      ],
      "metadata": {
        "id": "ORXP9BDn_y9E"
      }
    },
    {
      "cell_type": "markdown",
      "source": [
        "### To Deal with Overfitting\n",
        "\n",
        "LightGBM provides several parameters that can help in reducing overfitting:\n",
        "\n",
        "1. **Use small `max_bin`**  \n",
        "   - Reduces the number of splits, leading to simpler trees.\n",
        "\n",
        "2. **Use small `num_leaves`**  \n",
        "   - Fewer leaves prevent overly complex trees.\n",
        "\n",
        "3. **Use `min_data_in_leaf` and `min_sum_hessian_in_leaf`**  \n",
        "   - Ensures that each leaf has enough data, avoiding overly specific splits.\n",
        "\n",
        "4. **Use bagging by setting `bagging_fraction` and `bagging_freq`**  \n",
        "   - Randomly samples data to train, reducing variance.\n",
        "\n",
        "5. **Use feature sub-sampling by setting `feature_fraction`**  \n",
        "   - Randomly samples features, preventing over-reliance on specific features.\n",
        "\n",
        "6. **Use bigger training data**  \n",
        "   - More data reduces variance and overfitting.\n",
        "\n",
        "7. **Try `lambda_l1`, `lambda_l2`, and `min_gain_to_split` for regularization**  \n",
        "   - L1/L2 regularization reduces model complexity.  \n",
        "   - `min_gain_to_split` prevents unnecessary splits.\n",
        "\n",
        "8. **Try `max_depth` to avoid growing deep_**\n"
      ],
      "metadata": {
        "id": "G0UjTh9l_-sn"
      }
    },
    {
      "cell_type": "markdown",
      "source": [
        "## 7. References ¶\n",
        "**Table of Contents**\n",
        "\n",
        "The ideas and concepts in this notebook are taken from the following resources:  \n",
        "\n",
        "- [LightGBM GitHub Repository](https://github.com/Microsoft/LightGBM)  \n",
        "- [LightGBM Parameters Documentation](https://github.com/microsoft/LightGBM/blob/master/docs/Parameters.rst)  \n",
        "- [Medium: What is LightGBM, How to Implement it, How to Fine-Tune Parameters](https://medium.com/@pushkarmandot/https-medium-com-pushkarmandot-what-is-lightgbm-how-to-implement-it-how-to-fine-tune-the-parameters-60347819b7fc)  \n",
        "- [Sefiks Blog: A Gentle Introduction to LightGBM for Applied Machine Learning](https://sefiks.com/2018/10/13/a-gentle-introduction-to-lightgbm-for-applied-machine-learning/)  \n",
        "- [Towards Data Science: Build XGBoost & LightGBM Models on Large Datasets](https://towardsdatascience.com/build-xgboost-lightgbm-models-on-large-datasets-what-are-the-possible-solutions-bf882da2c27d)  \n"
      ],
      "metadata": {
        "id": "05I0Ox2iAHvi"
      }
    },
    {
      "cell_type": "markdown",
      "source": [
        "---\n",
        "\n",
        "## 🎯 Conclusion  \n",
        "\n",
        "That is the end of this kernel.  \n",
        "\n",
        "I hope you find this kernel useful and enjoyable.  \n",
        "\n",
        "Your comments and feedback are most welcome.  \n",
        "\n",
        "Thank you 🙏  \n",
        "\n",
        "---\n",
        "\n",
        "[🔝 Go to Top](#table-of-contents)\n"
      ],
      "metadata": {
        "id": "Cif5nEhqAWGK"
      }
    }
  ]
}